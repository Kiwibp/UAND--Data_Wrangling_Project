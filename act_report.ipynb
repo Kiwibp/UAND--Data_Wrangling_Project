{
 "cells": [
  {
   "cell_type": "markdown",
   "metadata": {},
   "source": [
    "# Data Analysis & Visualization"
   ]
  },
  {
   "cell_type": "markdown",
   "metadata": {},
   "source": [
    "The first question I wanted to answer was which year had the most activity (tweets) for the weratedogs twitter handle.\n",
    "I was able to answer this question using the following line of code using the pandas library:\n",
    "```python\n",
    "tweets_master_df.groupby(tweets_master_df[\"timestamp\"].apply(lambda x: x.year)) \\\n",
    "['timestamp'].count()\n",
    "```\n",
    "\n",
    "The results were that 2016 had the majority of tweets with 1021, while 2015 had 665 tweets and 2017 had 383 tweets.  I was suprised that 2017 had such a low number.  I know that I extracted tweets data up to August 2017 and as you'll see later in this notebook, the highest amount of activity for this twitter handle occured in November and December historically."
   ]
  },
  {
   "cell_type": "markdown",
   "metadata": {},
   "source": [
    "The second question I wanted to answer was which tweet was retweeted the most.  To find this answer, I used the following line of code:\n",
    "```python\n",
    "tweets_master_df.iloc[tweets_master_df['retweet_count'].nlargest(10).index, :]\n",
    "```\n",
    "\n",
    "This gave me the results for the top 10 tweets with the most retweets.  Then I extracted out the text and link to the tweet using the following code:\n",
    "```python\n",
    "tweets_master_df.ix[774, 'text']\n",
    "tweets_master_df.ix[774, 'expanded_urls']\n",
    "```"
   ]
  },
  {
   "cell_type": "markdown",
   "metadata": {},
   "source": [
    "<blockquote class=\"twitter-video\" data-lang=\"en\"><p lang=\"en\" dir=\"ltr\">Here&#39;s a doggo realizing you can stand in a pool. 13/10 enlightened af (vid by Tina Conrad) <a href=\"https://t.co/7wE9LTEXC4\">pic.twitter.com/7wE9LTEXC4</a></p>&mdash; WeRateDogs™ (@dog_rates) <a href=\"https://twitter.com/dog_rates/status/744234799360020481?ref_src=twsrc%5Etfw\">June 18, 2016</a></blockquote>\n",
    "<script async src=\"https://platform.twitter.com/widgets.js\" charset=\"utf-8\"></script>"
   ]
  },
  {
   "cell_type": "markdown",
   "metadata": {},
   "source": [
    "![Most Retweeted Tweet](enlightened_af.jpg)"
   ]
  },
  {
   "cell_type": "markdown",
   "metadata": {},
   "source": [
    "The third question I set out to answer as which tweets was favorited the most.  To answer this question I used the following line of code:\n",
    "```python\n",
    "tweets_master_df.iloc[tweets_master_df['favorite_count'].nlargest(10).index, :]\n",
    "```\n",
    "\n",
    "This gave me the top 10 tweets that were favorited the most and then I used the following code to extract out the text and link to the most favorited tweet:\n",
    "```python\n",
    "tweets_master_df.ix[309, 'text']\n",
    "tweets_master_df.ix[309, 'expanded_urls']\n",
    "```"
   ]
  },
  {
   "cell_type": "markdown",
   "metadata": {},
   "source": [
    "![Most Favorited Tweet](womens_march.jpg)\n",
    "\n",
    "<blockquote class=\"twitter-tweet\" data-lang=\"en\"><p lang=\"en\" dir=\"ltr\">Here&#39;s a super supportive puppo participating in the Toronto  <a href=\"https://twitter.com/hashtag/WomensMarch?src=hash&amp;ref_src=twsrc%5Etfw\">#WomensMarch</a> today. 13/10 <a href=\"https://t.co/nTz3FtorBc\">pic.twitter.com/nTz3FtorBc</a></p>&mdash; WeRateDogs™ (@dog_rates) <a href=\"https://twitter.com/dog_rates/status/822872901745569793?ref_src=twsrc%5Etfw\">January 21, 2017</a></blockquote>\n",
    "<script async src=\"https://platform.twitter.com/widgets.js\" charset=\"utf-8\"></script>"
   ]
  },
  {
   "cell_type": "markdown",
   "metadata": {},
   "source": [
    "For my visualization I used pandas to plot the tweets by month and find out which months throughout the year received the most activity:\n",
    "```python\n",
    "tweets_master_df.groupby(tweets_master_df[\"timestamp\"].apply(lambda x: x.month)) \\\n",
    "['timestamp'].count().plot(kind=\"bar\")\n",
    "```\n",
    "\n",
    "This line of code illustrates the elegance and power of the pandas library.  I had already converted the 'timestamp' column to type *datetime* so all I needed to do was group by each month and then create a bar chart that displays the count of the amount of tweets by each month.  It turns out the most activity was in November and December but I'm not sure why."
   ]
  },
  {
   "cell_type": "markdown",
   "metadata": {},
   "source": [
    "![bar chart](bar_chart.png)"
   ]
  }
 ],
 "metadata": {
  "anaconda-cloud": {},
  "kernelspec": {
   "display_name": "Python 3",
   "language": "python",
   "name": "python3"
  },
  "language_info": {
   "codemirror_mode": {
    "name": "ipython",
    "version": 3
   },
   "file_extension": ".py",
   "mimetype": "text/x-python",
   "name": "python",
   "nbconvert_exporter": "python",
   "pygments_lexer": "ipython3",
   "version": "3.6.3"
  }
 },
 "nbformat": 4,
 "nbformat_minor": 1
}
